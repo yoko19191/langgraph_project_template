{
 "cells": [
  {
   "cell_type": "code",
   "id": "initial_id",
   "metadata": {
    "collapsed": true,
    "ExecuteTime": {
     "end_time": "2025-10-08T10:30:26.589428Z",
     "start_time": "2025-10-08T10:30:26.561227Z"
    }
   },
   "source": [
    "import os\n",
    "import sys\n",
    "\n",
    "from rich import print\n",
    "\n",
    "from dotenv import load_dotenv, find_dotenv\n",
    "\n",
    "_ = load_dotenv(find_dotenv())\n",
    "\n",
    "project_root = os.path.abspath(os.path.join(os.getcwd(), '..'))\n",
    "if project_root not in sys.path:\n",
    "    sys.path.insert(0, project_root)\n",
    "\n",
    "print(f\"✅ Project root added to path: {project_root}\")"
   ],
   "outputs": [
    {
     "data": {
      "text/plain": [
       "✅ Project root added to path: \u001B[35m/Users/guchen/repo_own/langgraph_project_template/tests/app/\u001B[0m\u001B[95mcommon\u001B[0m\n"
      ],
      "text/html": [
       "<pre style=\"white-space:pre;overflow-x:auto;line-height:normal;font-family:Menlo,'DejaVu Sans Mono',consolas,'Courier New',monospace\">✅ Project root added to path: <span style=\"color: #800080; text-decoration-color: #800080\">/Users/guchen/repo_own/langgraph_project_template/tests/app/</span><span style=\"color: #ff00ff; text-decoration-color: #ff00ff\">common</span>\n",
       "</pre>\n"
      ]
     },
     "metadata": {},
     "output_type": "display_data",
     "jetTransient": {
      "display_id": null
     }
    }
   ],
   "execution_count": 1
  },
  {
   "metadata": {
    "ExecuteTime": {
     "end_time": "2025-10-08T10:30:28.223845Z",
     "start_time": "2025-10-08T10:30:27.961292Z"
    }
   },
   "cell_type": "code",
   "source": [
    "from typing import Optional\n",
    "from langchain_core.documents import Document\n",
    "from langchain_core.documents.compressor import BaseDocumentCompressor\n",
    "from langchain_community.vectorstores import FAISS\n",
    "from src.app.common.models import init_embedding_model\n",
    "\n",
    "\n",
    "def test_embedding_retrieve(\n",
    "    query: str,\n",
    "    reranker: Optional[BaseDocumentCompressor] = None\n",
    "):\n",
    "    \"\"\"\n",
    "    一个灵活的 RAG 检索函数，使用新的文档和查询来凸显 Reranker 的效果。\n",
    "    \"\"\"\n",
    "    # ------------------ 新的文档和查询 ------------------\n",
    "    docs = [\n",
    "        Document(\n",
    "            page_content=\"尼古拉·特斯拉是一位伟大的发明家，他在19世纪末对交流电（AC）系统的设计和推广做出了关键贡献，这为现代全球电力网络奠定了基础。\",\n",
    "            metadata={\"source\": \"history_pedia\"}\n",
    "        ),\n",
    "        Document(\n",
    "            page_content=\"苹果公司（Apple Inc.）宣布，计划在未来五年内，投资超过4300亿美元，用于在美国发展下一代芯片技术和建设新的数据中心。这项投资计划将专注于半导体研发和供应链强化。\",\n",
    "            metadata={\"source\": \"tech_news_article_1\"}\n",
    "        ),\n",
    "        Document(\n",
    "            page_content=\"特斯拉公司（Tesla, Inc.）公布了最新的季度财报，显示其电动汽车销量再创新高。CEO埃隆·马斯克对公司的电力技术和未来发展充满信心。\",\n",
    "            metadata={\"source\": \"finance_news\"}\n",
    "        ),\n",
    "        Document(\n",
    "            page_content=\"特斯拉 Model S Plaid 车型采用三电机配置，其核心是先进的交流感应电动机技术，能提供惊人的加速性能和电力效率。\",\n",
    "            metadata={\"source\": \"car_manual\"}\n",
    "        ),\n",
    "        Document(\n",
    "            page_content=\"营养学家发布了一份关于水果“苹果”的投资健康计划。该计划建议，每日投资一个苹果可以有效降低心血管疾病风险。许多家庭主妇已经开始了这个健康的投资计划。\",\n",
    "            metadata={\"source\": \"health_blog_post_2\"}\n",
    "        ),\n",
    "        Document(\n",
    "            page_content=\"要缓解大型语言模型的幻觉问题，可以采用多种策略。一种常见的方法是引入知识图谱进行事实校验。此外，使用RAG（检索增强生成）架构，让模型参考外部可信数据源，也能显著减少不准确信息的生成。\",\n",
    "            metadata={\"source\": \"research_paper_summary_3\"}\n",
    "        ),\n",
    "        Document(\n",
    "            page_content=\"大型语言模型（LLM）的幻觉问题是一个严峻的挑战。模型可能会凭空捏造事实、引用不存在的来源，这在金融、医疗等关键领域的应用中构成了巨大风险。幻觉的根本原因在于模型训练数据中的噪声和其生成机制的概率性。\",\n",
    "            metadata={\"source\": \"llm_introduction_4\"}\n",
    "        ),\n",
    "        Document(\n",
    "            page_content=\"Pandas是Python中一个功能强大的数据分析库。它提供了DataFrame和Series两种核心数据结构，非常适合处理表格数据。使用Pandas，你可以轻松地进行数据清洗、转换、聚合和可视化。\",\n",
    "            metadata={\"source\": \"python_data_science_intro_6\"}\n",
    "        ),\n",
    "        Document(\n",
    "            page_content=\"在Pandas中，你可以使用 .dropna() 方法来删除包含缺失值（NaN）的行或列。例如，要删除任何含有NaN的行，只需在你的DataFrame上调用 df.dropna(axis=0, how='any') 即可。\",\n",
    "            metadata={\"source\": \"pandas_cookbook_5\"}\n",
    "        ),\n",
    "        Document(\n",
    "            page_content=\"托马斯·爱迪生是直流电（DC）的主要倡导者，他与支持交流电的尼古拉·特斯拉之间曾有过著名的“电流战争”。\",\n",
    "            metadata={\"source\": \"history_pedia\"}\n",
    "        ),\n",
    "        Document(\n",
    "            page_content=\"为您的电动汽车充电很简单。只需将充电枪连接到车辆的充电端口，电力就会开始从电网流入电池。\",\n",
    "            metadata={\"source\": \"ev_charging_guide\"}\n",
    "        ),\n",
    "    ]\n",
    "    # ---------------------------------------------------\n",
    "\n",
    "    # 使用您指定的 Ollama 嵌入模型\n",
    "    embeddings = init_embedding_model(model=\"qwen3-embedding:8b\", model_provider=\"ollama\")\n",
    "    print(f\"{embeddings.__class__.__mro__}\")\n",
    "\n",
    "    vector_store = FAISS.from_documents(docs, embeddings)\n",
    "    print(f\"{vector_store.__class__.__mro__}\")\n",
    "\n",
    "    # 基础检索器，我们让它返回更多的结果（k=4），给 reranker 留出排序空间\n",
    "    retriever = vector_store.as_retriever(search_kwargs={\"k\": 4})\n",
    "\n",
    "    print(f\"--- 正在执行查询: '{query}' ---\")\n",
    "    if reranker:\n",
    "        print(f\"--- 模式: 已启用 {reranker.__class__.__name__} ---\")\n",
    "        print(f\"-- {reranker.__class__.__mro__} ---\")\n",
    "    else:\n",
    "        print(\"--- 模式: 未使用 Reranker (基础检索) ---\")\n",
    "\n",
    "    retrieved_docs = retriever.invoke(query)\n",
    "\n",
    "    # 后处理 Rerank 步骤\n",
    "    if reranker is not None:\n",
    "        # reranker.compress_documents 需要一个文档列表和查询字符串\n",
    "        retrieved_docs = reranker.compress_documents(retrieved_docs, query)\n",
    "\n",
    "    print(\"检索到的结果:\")\n",
    "    for i, doc in enumerate(retrieved_docs):\n",
    "        print(f\"  文档 {i+1}: {doc.page_content} (来源: {doc.metadata['source']})\")\n"
   ],
   "id": "b7bcde61d525c55",
   "outputs": [],
   "execution_count": 2
  },
  {
   "metadata": {},
   "cell_type": "markdown",
   "source": "## `src.common.models.rerank_models`",
   "id": "9fe2d685a2b1c54d"
  },
  {
   "metadata": {
    "ExecuteTime": {
     "end_time": "2025-10-08T10:31:17.752289Z",
     "start_time": "2025-10-08T10:31:11.071295Z"
    }
   },
   "cell_type": "code",
   "source": [
    "from src.app.common.models import init_rerank_model\n",
    "\n",
    "query = \"如何处理大模型的幻觉问题\"\n",
    "\n",
    "#reranker = init_rerank_model(model=\"gte-rerank-v2\", model_provider=\"dashscope\")\n",
    "#reranker = init_rerank_model(model=\"qwen3-reranker-0.6b\", model_provider=\"xinference\")\n",
    "#reranker = init_rerank_model(model=\"BAAI/bge-reranker-v2-m3\", model_provider=\"siliconflow\")\n",
    "reranker = init_rerank_model(model=\"qwen3-reranker-8b\", model_provider=\"dmxapi\")\n",
    "\n",
    "test_embedding_retrieve(query=query)\n",
    "test_embedding_retrieve(query=query, reranker=reranker)"
   ],
   "id": "dc82aac7c888e463",
   "outputs": [
    {
     "data": {
      "text/plain": [
       "\u001B[1m(\u001B[0m\u001B[1m<\u001B[0m\u001B[1;95mclass\u001B[0m\u001B[39m \u001B[0m\u001B[32m'langchain_ollama.embeddings.OllamaEmbeddings'\u001B[0m\u001B[39m>, <class \u001B[0m\u001B[32m'pydantic.main.BaseModel'\u001B[0m\u001B[39m>, <class \u001B[0m\n",
       "\u001B[32m'langchain_core.embeddings.embeddings.Embeddings'\u001B[0m\u001B[39m>, <class \u001B[0m\u001B[32m'abc.ABC'\u001B[0m\u001B[39m>, <class \u001B[0m\u001B[32m'object'\u001B[0m\u001B[1m>\u001B[0m\u001B[1m)\u001B[0m\n"
      ],
      "text/html": [
       "<pre style=\"white-space:pre;overflow-x:auto;line-height:normal;font-family:Menlo,'DejaVu Sans Mono',consolas,'Courier New',monospace\"><span style=\"font-weight: bold\">(&lt;</span><span style=\"color: #ff00ff; text-decoration-color: #ff00ff; font-weight: bold\">class</span><span style=\"color: #000000; text-decoration-color: #000000\"> </span><span style=\"color: #008000; text-decoration-color: #008000\">'langchain_ollama.embeddings.OllamaEmbeddings'</span><span style=\"color: #000000; text-decoration-color: #000000\">&gt;, &lt;class </span><span style=\"color: #008000; text-decoration-color: #008000\">'pydantic.main.BaseModel'</span><span style=\"color: #000000; text-decoration-color: #000000\">&gt;, &lt;class </span>\n",
       "<span style=\"color: #008000; text-decoration-color: #008000\">'langchain_core.embeddings.embeddings.Embeddings'</span><span style=\"color: #000000; text-decoration-color: #000000\">&gt;, &lt;class </span><span style=\"color: #008000; text-decoration-color: #008000\">'abc.ABC'</span><span style=\"color: #000000; text-decoration-color: #000000\">&gt;, &lt;class </span><span style=\"color: #008000; text-decoration-color: #008000\">'object'</span><span style=\"font-weight: bold\">&gt;)</span>\n",
       "</pre>\n"
      ]
     },
     "metadata": {},
     "output_type": "display_data",
     "jetTransient": {
      "display_id": null
     }
    },
    {
     "data": {
      "text/plain": [
       "\u001B[1m(\u001B[0m\u001B[1m<\u001B[0m\u001B[1;95mclass\u001B[0m\u001B[39m \u001B[0m\u001B[32m'langchain_community.vectorstores.faiss.FAISS'\u001B[0m\u001B[39m>, <class \u001B[0m\u001B[32m'langchain_core.vectorstores.base.VectorStore'\u001B[0m\u001B[39m>, \u001B[0m\n",
       "\u001B[39m<class \u001B[0m\u001B[32m'abc.ABC'\u001B[0m\u001B[39m>, <class \u001B[0m\u001B[32m'object'\u001B[0m\u001B[1m>\u001B[0m\u001B[1m)\u001B[0m\n"
      ],
      "text/html": [
       "<pre style=\"white-space:pre;overflow-x:auto;line-height:normal;font-family:Menlo,'DejaVu Sans Mono',consolas,'Courier New',monospace\"><span style=\"font-weight: bold\">(&lt;</span><span style=\"color: #ff00ff; text-decoration-color: #ff00ff; font-weight: bold\">class</span><span style=\"color: #000000; text-decoration-color: #000000\"> </span><span style=\"color: #008000; text-decoration-color: #008000\">'langchain_community.vectorstores.faiss.FAISS'</span><span style=\"color: #000000; text-decoration-color: #000000\">&gt;, &lt;class </span><span style=\"color: #008000; text-decoration-color: #008000\">'langchain_core.vectorstores.base.VectorStore'</span><span style=\"color: #000000; text-decoration-color: #000000\">&gt;, </span>\n",
       "<span style=\"color: #000000; text-decoration-color: #000000\">&lt;class </span><span style=\"color: #008000; text-decoration-color: #008000\">'abc.ABC'</span><span style=\"color: #000000; text-decoration-color: #000000\">&gt;, &lt;class </span><span style=\"color: #008000; text-decoration-color: #008000\">'object'</span><span style=\"font-weight: bold\">&gt;)</span>\n",
       "</pre>\n"
      ]
     },
     "metadata": {},
     "output_type": "display_data",
     "jetTransient": {
      "display_id": null
     }
    },
    {
     "data": {
      "text/plain": [
       "--- 正在执行查询: \u001B[32m'如何处理大模型的幻觉问题'\u001B[0m ---\n"
      ],
      "text/html": [
       "<pre style=\"white-space:pre;overflow-x:auto;line-height:normal;font-family:Menlo,'DejaVu Sans Mono',consolas,'Courier New',monospace\">--- 正在执行查询: <span style=\"color: #008000; text-decoration-color: #008000\">'如何处理大模型的幻觉问题'</span> ---\n",
       "</pre>\n"
      ]
     },
     "metadata": {},
     "output_type": "display_data",
     "jetTransient": {
      "display_id": null
     }
    },
    {
     "data": {
      "text/plain": [
       "--- 模式: 未使用 Reranker \u001B[1m(\u001B[0m基础检索\u001B[1m)\u001B[0m ---\n"
      ],
      "text/html": [
       "<pre style=\"white-space:pre;overflow-x:auto;line-height:normal;font-family:Menlo,'DejaVu Sans Mono',consolas,'Courier New',monospace\">--- 模式: 未使用 Reranker <span style=\"font-weight: bold\">(</span>基础检索<span style=\"font-weight: bold\">)</span> ---\n",
       "</pre>\n"
      ]
     },
     "metadata": {},
     "output_type": "display_data",
     "jetTransient": {
      "display_id": null
     }
    },
    {
     "data": {
      "text/plain": [
       "检索到的结果:\n"
      ],
      "text/html": [
       "<pre style=\"white-space:pre;overflow-x:auto;line-height:normal;font-family:Menlo,'DejaVu Sans Mono',consolas,'Courier New',monospace\">检索到的结果:\n",
       "</pre>\n"
      ]
     },
     "metadata": {},
     "output_type": "display_data",
     "jetTransient": {
      "display_id": null
     }
    },
    {
     "data": {
      "text/plain": [
       "  文档 \u001B[1;36m1\u001B[0m: \n",
       "要缓解大型语言模型的幻觉问题，可以采用多种策略。一种常见的方法是引入知识图谱进行事实校验。此外，使用RAG（检索增强生\n",
       "成）架构，让模型参考外部可信数据源，也能显著减少不准确信息的生成。 \u001B[1m(\u001B[0m来源: research_paper_summary_3\u001B[1m)\u001B[0m\n"
      ],
      "text/html": [
       "<pre style=\"white-space:pre;overflow-x:auto;line-height:normal;font-family:Menlo,'DejaVu Sans Mono',consolas,'Courier New',monospace\">  文档 <span style=\"color: #008080; text-decoration-color: #008080; font-weight: bold\">1</span>: \n",
       "要缓解大型语言模型的幻觉问题，可以采用多种策略。一种常见的方法是引入知识图谱进行事实校验。此外，使用RAG（检索增强生\n",
       "成）架构，让模型参考外部可信数据源，也能显著减少不准确信息的生成。 <span style=\"font-weight: bold\">(</span>来源: research_paper_summary_3<span style=\"font-weight: bold\">)</span>\n",
       "</pre>\n"
      ]
     },
     "metadata": {},
     "output_type": "display_data",
     "jetTransient": {
      "display_id": null
     }
    },
    {
     "data": {
      "text/plain": [
       "  文档 \u001B[1;36m2\u001B[0m: \n",
       "大型语言模型（LLM）的幻觉问题是一个严峻的挑战。模型可能会凭空捏造事实、引用不存在的来源，这在金融、医疗等关键领域的\n",
       "应用中构成了巨大风险。幻觉的根本原因在于模型训练数据中的噪声和其生成机制的概率性。 \u001B[1m(\u001B[0m来源: llm_introduction_4\u001B[1m)\u001B[0m\n"
      ],
      "text/html": [
       "<pre style=\"white-space:pre;overflow-x:auto;line-height:normal;font-family:Menlo,'DejaVu Sans Mono',consolas,'Courier New',monospace\">  文档 <span style=\"color: #008080; text-decoration-color: #008080; font-weight: bold\">2</span>: \n",
       "大型语言模型（LLM）的幻觉问题是一个严峻的挑战。模型可能会凭空捏造事实、引用不存在的来源，这在金融、医疗等关键领域的\n",
       "应用中构成了巨大风险。幻觉的根本原因在于模型训练数据中的噪声和其生成机制的概率性。 <span style=\"font-weight: bold\">(</span>来源: llm_introduction_4<span style=\"font-weight: bold\">)</span>\n",
       "</pre>\n"
      ]
     },
     "metadata": {},
     "output_type": "display_data",
     "jetTransient": {
      "display_id": null
     }
    },
    {
     "data": {
      "text/plain": [
       "  文档 \u001B[1;36m3\u001B[0m: 特斯拉 Model S Plaid \n",
       "车型采用三电机配置，其核心是先进的交流感应电动机技术，能提供惊人的加速性能和电力效率。 \u001B[1m(\u001B[0m来源: car_manual\u001B[1m)\u001B[0m\n"
      ],
      "text/html": [
       "<pre style=\"white-space:pre;overflow-x:auto;line-height:normal;font-family:Menlo,'DejaVu Sans Mono',consolas,'Courier New',monospace\">  文档 <span style=\"color: #008080; text-decoration-color: #008080; font-weight: bold\">3</span>: 特斯拉 Model S Plaid \n",
       "车型采用三电机配置，其核心是先进的交流感应电动机技术，能提供惊人的加速性能和电力效率。 <span style=\"font-weight: bold\">(</span>来源: car_manual<span style=\"font-weight: bold\">)</span>\n",
       "</pre>\n"
      ]
     },
     "metadata": {},
     "output_type": "display_data",
     "jetTransient": {
      "display_id": null
     }
    },
    {
     "data": {
      "text/plain": [
       "  文档 \u001B[1;36m4\u001B[0m: \n",
       "营养学家发布了一份关于水果“苹果”的投资健康计划。该计划建议，每日投资一个苹果可以有效降低心血管疾病风险。许多家庭主\n",
       "妇已经开始了这个健康的投资计划。 \u001B[1m(\u001B[0m来源: health_blog_post_2\u001B[1m)\u001B[0m\n"
      ],
      "text/html": [
       "<pre style=\"white-space:pre;overflow-x:auto;line-height:normal;font-family:Menlo,'DejaVu Sans Mono',consolas,'Courier New',monospace\">  文档 <span style=\"color: #008080; text-decoration-color: #008080; font-weight: bold\">4</span>: \n",
       "营养学家发布了一份关于水果“苹果”的投资健康计划。该计划建议，每日投资一个苹果可以有效降低心血管疾病风险。许多家庭主\n",
       "妇已经开始了这个健康的投资计划。 <span style=\"font-weight: bold\">(</span>来源: health_blog_post_2<span style=\"font-weight: bold\">)</span>\n",
       "</pre>\n"
      ]
     },
     "metadata": {},
     "output_type": "display_data",
     "jetTransient": {
      "display_id": null
     }
    },
    {
     "data": {
      "text/plain": [
       "\u001B[1m(\u001B[0m\u001B[1m<\u001B[0m\u001B[1;95mclass\u001B[0m\u001B[39m \u001B[0m\u001B[32m'langchain_ollama.embeddings.OllamaEmbeddings'\u001B[0m\u001B[39m>, <class \u001B[0m\u001B[32m'pydantic.main.BaseModel'\u001B[0m\u001B[39m>, <class \u001B[0m\n",
       "\u001B[32m'langchain_core.embeddings.embeddings.Embeddings'\u001B[0m\u001B[39m>, <class \u001B[0m\u001B[32m'abc.ABC'\u001B[0m\u001B[39m>, <class \u001B[0m\u001B[32m'object'\u001B[0m\u001B[1m>\u001B[0m\u001B[1m)\u001B[0m\n"
      ],
      "text/html": [
       "<pre style=\"white-space:pre;overflow-x:auto;line-height:normal;font-family:Menlo,'DejaVu Sans Mono',consolas,'Courier New',monospace\"><span style=\"font-weight: bold\">(&lt;</span><span style=\"color: #ff00ff; text-decoration-color: #ff00ff; font-weight: bold\">class</span><span style=\"color: #000000; text-decoration-color: #000000\"> </span><span style=\"color: #008000; text-decoration-color: #008000\">'langchain_ollama.embeddings.OllamaEmbeddings'</span><span style=\"color: #000000; text-decoration-color: #000000\">&gt;, &lt;class </span><span style=\"color: #008000; text-decoration-color: #008000\">'pydantic.main.BaseModel'</span><span style=\"color: #000000; text-decoration-color: #000000\">&gt;, &lt;class </span>\n",
       "<span style=\"color: #008000; text-decoration-color: #008000\">'langchain_core.embeddings.embeddings.Embeddings'</span><span style=\"color: #000000; text-decoration-color: #000000\">&gt;, &lt;class </span><span style=\"color: #008000; text-decoration-color: #008000\">'abc.ABC'</span><span style=\"color: #000000; text-decoration-color: #000000\">&gt;, &lt;class </span><span style=\"color: #008000; text-decoration-color: #008000\">'object'</span><span style=\"font-weight: bold\">&gt;)</span>\n",
       "</pre>\n"
      ]
     },
     "metadata": {},
     "output_type": "display_data",
     "jetTransient": {
      "display_id": null
     }
    },
    {
     "data": {
      "text/plain": [
       "\u001B[1m(\u001B[0m\u001B[1m<\u001B[0m\u001B[1;95mclass\u001B[0m\u001B[39m \u001B[0m\u001B[32m'langchain_community.vectorstores.faiss.FAISS'\u001B[0m\u001B[39m>, <class \u001B[0m\u001B[32m'langchain_core.vectorstores.base.VectorStore'\u001B[0m\u001B[39m>, \u001B[0m\n",
       "\u001B[39m<class \u001B[0m\u001B[32m'abc.ABC'\u001B[0m\u001B[39m>, <class \u001B[0m\u001B[32m'object'\u001B[0m\u001B[1m>\u001B[0m\u001B[1m)\u001B[0m\n"
      ],
      "text/html": [
       "<pre style=\"white-space:pre;overflow-x:auto;line-height:normal;font-family:Menlo,'DejaVu Sans Mono',consolas,'Courier New',monospace\"><span style=\"font-weight: bold\">(&lt;</span><span style=\"color: #ff00ff; text-decoration-color: #ff00ff; font-weight: bold\">class</span><span style=\"color: #000000; text-decoration-color: #000000\"> </span><span style=\"color: #008000; text-decoration-color: #008000\">'langchain_community.vectorstores.faiss.FAISS'</span><span style=\"color: #000000; text-decoration-color: #000000\">&gt;, &lt;class </span><span style=\"color: #008000; text-decoration-color: #008000\">'langchain_core.vectorstores.base.VectorStore'</span><span style=\"color: #000000; text-decoration-color: #000000\">&gt;, </span>\n",
       "<span style=\"color: #000000; text-decoration-color: #000000\">&lt;class </span><span style=\"color: #008000; text-decoration-color: #008000\">'abc.ABC'</span><span style=\"color: #000000; text-decoration-color: #000000\">&gt;, &lt;class </span><span style=\"color: #008000; text-decoration-color: #008000\">'object'</span><span style=\"font-weight: bold\">&gt;)</span>\n",
       "</pre>\n"
      ]
     },
     "metadata": {},
     "output_type": "display_data",
     "jetTransient": {
      "display_id": null
     }
    },
    {
     "data": {
      "text/plain": [
       "--- 正在执行查询: \u001B[32m'如何处理大模型的幻觉问题'\u001B[0m ---\n"
      ],
      "text/html": [
       "<pre style=\"white-space:pre;overflow-x:auto;line-height:normal;font-family:Menlo,'DejaVu Sans Mono',consolas,'Courier New',monospace\">--- 正在执行查询: <span style=\"color: #008000; text-decoration-color: #008000\">'如何处理大模型的幻觉问题'</span> ---\n",
       "</pre>\n"
      ]
     },
     "metadata": {},
     "output_type": "display_data",
     "jetTransient": {
      "display_id": null
     }
    },
    {
     "data": {
      "text/plain": [
       "--- 模式: 已启用 DMXAPIRerank ---\n"
      ],
      "text/html": [
       "<pre style=\"white-space:pre;overflow-x:auto;line-height:normal;font-family:Menlo,'DejaVu Sans Mono',consolas,'Courier New',monospace\">--- 模式: 已启用 DMXAPIRerank ---\n",
       "</pre>\n"
      ]
     },
     "metadata": {},
     "output_type": "display_data",
     "jetTransient": {
      "display_id": null
     }
    },
    {
     "data": {
      "text/plain": [
       "-- \u001B[1m(\u001B[0m\u001B[1m<\u001B[0m\u001B[1;95mclass\u001B[0m\u001B[39m \u001B[0m\u001B[32m'src.app.common.models.dmxapi.rerank.DMXAPIRerank'\u001B[0m\u001B[39m>, <class \u001B[0m\n",
       "\u001B[32m'langchain_core.documents.compressor.BaseDocumentCompressor'\u001B[0m\u001B[39m>, <class \u001B[0m\u001B[32m'pydantic.main.BaseModel'\u001B[0m\u001B[39m>, <class \u001B[0m\n",
       "\u001B[32m'abc.ABC'\u001B[0m\u001B[39m>, <class \u001B[0m\u001B[32m'object'\u001B[0m\u001B[1m>\u001B[0m\u001B[1m)\u001B[0m ---\n"
      ],
      "text/html": [
       "<pre style=\"white-space:pre;overflow-x:auto;line-height:normal;font-family:Menlo,'DejaVu Sans Mono',consolas,'Courier New',monospace\">-- <span style=\"font-weight: bold\">(&lt;</span><span style=\"color: #ff00ff; text-decoration-color: #ff00ff; font-weight: bold\">class</span><span style=\"color: #000000; text-decoration-color: #000000\"> </span><span style=\"color: #008000; text-decoration-color: #008000\">'src.app.common.models.dmxapi.rerank.DMXAPIRerank'</span><span style=\"color: #000000; text-decoration-color: #000000\">&gt;, &lt;class </span>\n",
       "<span style=\"color: #008000; text-decoration-color: #008000\">'langchain_core.documents.compressor.BaseDocumentCompressor'</span><span style=\"color: #000000; text-decoration-color: #000000\">&gt;, &lt;class </span><span style=\"color: #008000; text-decoration-color: #008000\">'pydantic.main.BaseModel'</span><span style=\"color: #000000; text-decoration-color: #000000\">&gt;, &lt;class </span>\n",
       "<span style=\"color: #008000; text-decoration-color: #008000\">'abc.ABC'</span><span style=\"color: #000000; text-decoration-color: #000000\">&gt;, &lt;class </span><span style=\"color: #008000; text-decoration-color: #008000\">'object'</span><span style=\"font-weight: bold\">&gt;)</span> ---\n",
       "</pre>\n"
      ]
     },
     "metadata": {},
     "output_type": "display_data",
     "jetTransient": {
      "display_id": null
     }
    },
    {
     "data": {
      "text/plain": [
       "检索到的结果:\n"
      ],
      "text/html": [
       "<pre style=\"white-space:pre;overflow-x:auto;line-height:normal;font-family:Menlo,'DejaVu Sans Mono',consolas,'Courier New',monospace\">检索到的结果:\n",
       "</pre>\n"
      ]
     },
     "metadata": {},
     "output_type": "display_data",
     "jetTransient": {
      "display_id": null
     }
    },
    {
     "data": {
      "text/plain": [
       "  文档 \u001B[1;36m1\u001B[0m: \n",
       "要缓解大型语言模型的幻觉问题，可以采用多种策略。一种常见的方法是引入知识图谱进行事实校验。此外，使用RAG（检索增强生\n",
       "成）架构，让模型参考外部可信数据源，也能显著减少不准确信息的生成。 \u001B[1m(\u001B[0m来源: research_paper_summary_3\u001B[1m)\u001B[0m\n"
      ],
      "text/html": [
       "<pre style=\"white-space:pre;overflow-x:auto;line-height:normal;font-family:Menlo,'DejaVu Sans Mono',consolas,'Courier New',monospace\">  文档 <span style=\"color: #008080; text-decoration-color: #008080; font-weight: bold\">1</span>: \n",
       "要缓解大型语言模型的幻觉问题，可以采用多种策略。一种常见的方法是引入知识图谱进行事实校验。此外，使用RAG（检索增强生\n",
       "成）架构，让模型参考外部可信数据源，也能显著减少不准确信息的生成。 <span style=\"font-weight: bold\">(</span>来源: research_paper_summary_3<span style=\"font-weight: bold\">)</span>\n",
       "</pre>\n"
      ]
     },
     "metadata": {},
     "output_type": "display_data",
     "jetTransient": {
      "display_id": null
     }
    },
    {
     "data": {
      "text/plain": [
       "  文档 \u001B[1;36m2\u001B[0m: \n",
       "营养学家发布了一份关于水果“苹果”的投资健康计划。该计划建议，每日投资一个苹果可以有效降低心血管疾病风险。许多家庭主\n",
       "妇已经开始了这个健康的投资计划。 \u001B[1m(\u001B[0m来源: health_blog_post_2\u001B[1m)\u001B[0m\n"
      ],
      "text/html": [
       "<pre style=\"white-space:pre;overflow-x:auto;line-height:normal;font-family:Menlo,'DejaVu Sans Mono',consolas,'Courier New',monospace\">  文档 <span style=\"color: #008080; text-decoration-color: #008080; font-weight: bold\">2</span>: \n",
       "营养学家发布了一份关于水果“苹果”的投资健康计划。该计划建议，每日投资一个苹果可以有效降低心血管疾病风险。许多家庭主\n",
       "妇已经开始了这个健康的投资计划。 <span style=\"font-weight: bold\">(</span>来源: health_blog_post_2<span style=\"font-weight: bold\">)</span>\n",
       "</pre>\n"
      ]
     },
     "metadata": {},
     "output_type": "display_data",
     "jetTransient": {
      "display_id": null
     }
    },
    {
     "data": {
      "text/plain": [
       "  文档 \u001B[1;36m3\u001B[0m: 特斯拉 Model S Plaid \n",
       "车型采用三电机配置，其核心是先进的交流感应电动机技术，能提供惊人的加速性能和电力效率。 \u001B[1m(\u001B[0m来源: car_manual\u001B[1m)\u001B[0m\n"
      ],
      "text/html": [
       "<pre style=\"white-space:pre;overflow-x:auto;line-height:normal;font-family:Menlo,'DejaVu Sans Mono',consolas,'Courier New',monospace\">  文档 <span style=\"color: #008080; text-decoration-color: #008080; font-weight: bold\">3</span>: 特斯拉 Model S Plaid \n",
       "车型采用三电机配置，其核心是先进的交流感应电动机技术，能提供惊人的加速性能和电力效率。 <span style=\"font-weight: bold\">(</span>来源: car_manual<span style=\"font-weight: bold\">)</span>\n",
       "</pre>\n"
      ]
     },
     "metadata": {},
     "output_type": "display_data",
     "jetTransient": {
      "display_id": null
     }
    }
   ],
   "execution_count": 6
  },
  {
   "metadata": {},
   "cell_type": "code",
   "source": [
    "# model_provider = dashscope_rerank\n",
    "from langchain_community.document_compressors import DashScopeRerank\n",
    "dashscope_rerank = DashScopeRerank(model=\"gte-rerank-v2\")\n",
    "\n",
    "test_embedding_retrieve(query=query)\n",
    "print(\"\\n\" + \"=\"*50 + \"\\n\")\n",
    "test_embedding_retrieve(query=query, reranker=dashscope_rerank)"
   ],
   "id": "e7706224bdf3b73d",
   "outputs": [],
   "execution_count": null
  },
  {
   "metadata": {},
   "cell_type": "code",
   "source": [
    "# xinference rerank\n",
    "from langchain_xinference import XinferenceRerank\n",
    "\n",
    "xinference_rerank = XinferenceRerank(model_uid=\"bge-reranker-v2-m3\", server_url=os.getenv(\"XINFERENCE_SERVER_URL\"))\n",
    "test_embedding_retrieve(query=query)\n",
    "test_embedding_retrieve(query=query,reranker=xinference_rerank)\n"
   ],
   "id": "6272db203bfdf693",
   "outputs": [],
   "execution_count": null
  },
  {
   "metadata": {},
   "cell_type": "code",
   "source": [
    "# siliconflow rerank\n",
    "from src.app.common.models.siliconflow.rerank import SiliconflowRerank\n",
    "\n",
    "siliconflow_rerank = SiliconflowRerank(model=\"BAAI/bge-reranker-v2-m3\", instruction=\"检索有关特斯拉汽车的文档\")\n",
    "\n",
    "test_embedding_retrieve(query=query)\n",
    "test_embedding_retrieve(query=query,reranker=siliconflow_rerank)"
   ],
   "id": "249641733dccafc7",
   "outputs": [],
   "execution_count": null
  },
  {
   "metadata": {},
   "cell_type": "code",
   "source": "# dmxapi rerank",
   "id": "f94eca7e07fe0fbd",
   "outputs": [],
   "execution_count": null
  }
 ],
 "metadata": {
  "kernelspec": {
   "display_name": "Python 3",
   "language": "python",
   "name": "python3"
  },
  "language_info": {
   "codemirror_mode": {
    "name": "ipython",
    "version": 2
   },
   "file_extension": ".py",
   "mimetype": "text/x-python",
   "name": "python",
   "nbconvert_exporter": "python",
   "pygments_lexer": "ipython2",
   "version": "2.7.6"
  }
 },
 "nbformat": 4,
 "nbformat_minor": 5
}
