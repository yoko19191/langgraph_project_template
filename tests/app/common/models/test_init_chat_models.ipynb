{
 "cells": [
  {
   "cell_type": "code",
   "id": "d17b4e7e",
   "metadata": {
    "ExecuteTime": {
     "end_time": "2025-10-05T07:41:56.616986Z",
     "start_time": "2025-10-05T07:41:56.606779Z"
    }
   },
   "source": [
    "import os \n",
    "import sys\n",
    "\n",
    "from rich import print\n",
    "\n",
    "from dotenv import load_dotenv, find_dotenv\n",
    "\n",
    "_ = load_dotenv(find_dotenv())\n",
    "\n",
    "project_root = os.path.abspath(os.path.join(os.getcwd(), '..'))\n",
    "if project_root not in sys.path:\n",
    "    sys.path.insert(0, project_root)\n",
    "\n",
    "print(f\"✅ Project root added to path: {project_root}\")"
   ],
   "outputs": [
    {
     "data": {
      "text/plain": [
       "✅ Project root added to path: \u001B[35m/Users/guchen/repo_own/langgraph_project_template/tests/app/\u001B[0m\u001B[95mcommon\u001B[0m\n"
      ],
      "text/html": [
       "<pre style=\"white-space:pre;overflow-x:auto;line-height:normal;font-family:Menlo,'DejaVu Sans Mono',consolas,'Courier New',monospace\">✅ Project root added to path: <span style=\"color: #800080; text-decoration-color: #800080\">/Users/guchen/repo_own/langgraph_project_template/tests/app/</span><span style=\"color: #ff00ff; text-decoration-color: #ff00ff\">common</span>\n",
       "</pre>\n"
      ]
     },
     "metadata": {},
     "output_type": "display_data",
     "jetTransient": {
      "display_id": null
     }
    }
   ],
   "execution_count": 4
  },
  {
   "cell_type": "markdown",
   "id": "740a8132",
   "metadata": {},
   "source": [
    "## `common.models.chat_models`"
   ]
  },
  {
   "cell_type": "code",
   "id": "df379aca",
   "metadata": {
    "ExecuteTime": {
     "end_time": "2025-10-05T07:42:18.371931Z",
     "start_time": "2025-10-05T07:41:59.244030Z"
    }
   },
   "source": [
    "from src.app.common.models.chat_models import init_chat_model\n",
    "\n",
    "model = init_chat_model(\n",
    "    model=\"qwen3:30b\",\n",
    "    model_provider=\"ollama\"\n",
    ")\n",
    "\n",
    "print(f\"Model class: {model.__class__}\")\n",
    "\n",
    "resp = model.invoke(\"What is the captial of french?\")\n",
    "print(resp)"
   ],
   "outputs": [
    {
     "data": {
      "text/plain": [
       "Model class: \u001B[1m<\u001B[0m\u001B[1;95mclass\u001B[0m\u001B[39m \u001B[0m\u001B[32m'langchain_ollama.chat_models.ChatOllama'\u001B[0m\u001B[1m>\u001B[0m\n"
      ],
      "text/html": [
       "<pre style=\"white-space:pre;overflow-x:auto;line-height:normal;font-family:Menlo,'DejaVu Sans Mono',consolas,'Courier New',monospace\">Model class: <span style=\"font-weight: bold\">&lt;</span><span style=\"color: #ff00ff; text-decoration-color: #ff00ff; font-weight: bold\">class</span><span style=\"color: #000000; text-decoration-color: #000000\"> </span><span style=\"color: #008000; text-decoration-color: #008000\">'langchain_ollama.chat_models.ChatOllama'</span><span style=\"font-weight: bold\">&gt;</span>\n",
       "</pre>\n"
      ]
     },
     "metadata": {},
     "output_type": "display_data",
     "jetTransient": {
      "display_id": null
     }
    },
    {
     "data": {
      "text/plain": [
       "\u001B[1;35mAIMessage\u001B[0m\u001B[1m(\u001B[0m\n",
       "    \u001B[33mcontent\u001B[0m=\u001B[32m'\u001B[0m\u001B[32m<\u001B[0m\u001B[32mthink\u001B[0m\u001B[32m>\\nOkay, the user asked, \"What is the captial of french?\" Hmm, first I notice a typo—they wrote \u001B[0m\n",
       "\u001B[32m\"captial\" instead of \"capital\" and \"french\" instead of \"France.\" So they probably meant \"What is the capital of \u001B[0m\n",
       "\u001B[32mFrance?\" \\n\\nI should correct that gently in my response. The user might be a non-native English speaker or just \u001B[0m\n",
       "\u001B[32mtyped quickly. No big deal, but I’ll fix it to avoid confusion. \\n\\nNow, the actual answer is Paris. But \u001B[0m\n",
       "\u001B[32mwait—should I add more? Like why Paris is the capital? Maybe not, since the question is straightforward. \u001B[0m\n",
       "\u001B[32mOver-explaining might overwhelm them. \\n\\nAlso, I wonder if they’re asking for a geography quiz, a kid doing \u001B[0m\n",
       "\u001B[32mhomework, or just curious. Since it’s a basic fact, I’ll keep it simple and clear. \\n\\nOh, and I should spell \u001B[0m\n",
       "\u001B[32m\"capital\" correctly in my reply to model the right spelling. No need to point out their typo directly—just show the\u001B[0m\n",
       "\u001B[32mcorrect version. \\n\\n...Double-checking: Yep, Paris is definitely the capital. No tricks here \u001B[0m\u001B[32m(\u001B[0m\u001B[32mlike some countries \u001B[0m\n",
       "\u001B[32mhaving multiple capitals, but France doesn’t\u001B[0m\u001B[32m)\u001B[0m\u001B[32m. \\n\\nFinal plan: Correct the typo in my answer, state \"Paris,\" and \u001B[0m\n",
       "\u001B[32mkeep it friendly. Maybe add \"😊\" to soften it since typos happen to everyone!\\n</think\u001B[0m\u001B[32m>\u001B[0m\u001B[32m\\n\\nThe correct question is:\u001B[0m\n",
       "\u001B[32m**\"What is the capital of France?\"**  \\n*\u001B[0m\u001B[32m(\u001B[0m\u001B[32mNote: \"French\" refers to the language or people, not a country. The \u001B[0m\n",
       "\u001B[32mcountry is \"France.\"\u001B[0m\u001B[32m)\u001B[0m\u001B[32m*\\n\\nThe **capital of France is Paris**.  \\n\\n🌍 **Quick facts about Paris**:  \\n- It’s one of\u001B[0m\n",
       "\u001B[32mthe most visited cities in the world.  \\n- Famous landmarks include the Eiffel Tower, Louvre Museum, and Notre-Dame\u001B[0m\n",
       "\u001B[32mCathedral.  \\n- It’s a global hub for art, fashion, cuisine, and history.  \\n\\n*Typo note*: You wrote \"captial\" \u001B[0m\n",
       "\u001B[32m(\u001B[0m\u001B[32mshould be **capital**\u001B[0m\u001B[32m)\u001B[0m\u001B[32m and \"french\" \u001B[0m\u001B[32m(\u001B[0m\u001B[32mshould be **France**\u001B[0m\u001B[32m)\u001B[0m\u001B[32m. No worries—everyone makes typos! 😊'\u001B[0m,\n",
       "    \u001B[33madditional_kwargs\u001B[0m=\u001B[1m{\u001B[0m\u001B[1m}\u001B[0m,\n",
       "    \u001B[33mresponse_metadata\u001B[0m=\u001B[1m{\u001B[0m\n",
       "        \u001B[32m'model'\u001B[0m: \u001B[32m'qwen3:30b'\u001B[0m,\n",
       "        \u001B[32m'created_at'\u001B[0m: \u001B[32m'2025-10-05T07:42:18.355089Z'\u001B[0m,\n",
       "        \u001B[32m'done'\u001B[0m: \u001B[3;92mTrue\u001B[0m,\n",
       "        \u001B[32m'done_reason'\u001B[0m: \u001B[32m'stop'\u001B[0m,\n",
       "        \u001B[32m'total_duration'\u001B[0m: \u001B[1;36m19050716958\u001B[0m,\n",
       "        \u001B[32m'load_duration'\u001B[0m: \u001B[1;36m4704059167\u001B[0m,\n",
       "        \u001B[32m'prompt_eval_count'\u001B[0m: \u001B[1;36m16\u001B[0m,\n",
       "        \u001B[32m'prompt_eval_duration'\u001B[0m: \u001B[1;36m5782524584\u001B[0m,\n",
       "        \u001B[32m'eval_count'\u001B[0m: \u001B[1;36m425\u001B[0m,\n",
       "        \u001B[32m'eval_duration'\u001B[0m: \u001B[1;36m8562923791\u001B[0m,\n",
       "        \u001B[32m'model_name'\u001B[0m: \u001B[32m'qwen3:30b'\u001B[0m\n",
       "    \u001B[1m}\u001B[0m,\n",
       "    \u001B[33mid\u001B[0m=\u001B[32m'run--5701d98a-65c2-45ec-9ca2-3074dc60df6e-0'\u001B[0m,\n",
       "    \u001B[33musage_metadata\u001B[0m=\u001B[1m{\u001B[0m\u001B[32m'input_tokens'\u001B[0m: \u001B[1;36m16\u001B[0m, \u001B[32m'output_tokens'\u001B[0m: \u001B[1;36m425\u001B[0m, \u001B[32m'total_tokens'\u001B[0m: \u001B[1;36m441\u001B[0m\u001B[1m}\u001B[0m\n",
       "\u001B[1m)\u001B[0m\n"
      ],
      "text/html": [
       "<pre style=\"white-space:pre;overflow-x:auto;line-height:normal;font-family:Menlo,'DejaVu Sans Mono',consolas,'Courier New',monospace\"><span style=\"color: #800080; text-decoration-color: #800080; font-weight: bold\">AIMessage</span><span style=\"font-weight: bold\">(</span>\n",
       "    <span style=\"color: #808000; text-decoration-color: #808000\">content</span>=<span style=\"color: #008000; text-decoration-color: #008000\">'&lt;think&gt;\\nOkay, the user asked, \"What is the captial of french?\" Hmm, first I notice a typo—they wrote </span>\n",
       "<span style=\"color: #008000; text-decoration-color: #008000\">\"captial\" instead of \"capital\" and \"french\" instead of \"France.\" So they probably meant \"What is the capital of </span>\n",
       "<span style=\"color: #008000; text-decoration-color: #008000\">France?\" \\n\\nI should correct that gently in my response. The user might be a non-native English speaker or just </span>\n",
       "<span style=\"color: #008000; text-decoration-color: #008000\">typed quickly. No big deal, but I’ll fix it to avoid confusion. \\n\\nNow, the actual answer is Paris. But </span>\n",
       "<span style=\"color: #008000; text-decoration-color: #008000\">wait—should I add more? Like why Paris is the capital? Maybe not, since the question is straightforward. </span>\n",
       "<span style=\"color: #008000; text-decoration-color: #008000\">Over-explaining might overwhelm them. \\n\\nAlso, I wonder if they’re asking for a geography quiz, a kid doing </span>\n",
       "<span style=\"color: #008000; text-decoration-color: #008000\">homework, or just curious. Since it’s a basic fact, I’ll keep it simple and clear. \\n\\nOh, and I should spell </span>\n",
       "<span style=\"color: #008000; text-decoration-color: #008000\">\"capital\" correctly in my reply to model the right spelling. No need to point out their typo directly—just show the</span>\n",
       "<span style=\"color: #008000; text-decoration-color: #008000\">correct version. \\n\\n...Double-checking: Yep, Paris is definitely the capital. No tricks here (like some countries </span>\n",
       "<span style=\"color: #008000; text-decoration-color: #008000\">having multiple capitals, but France doesn’t). \\n\\nFinal plan: Correct the typo in my answer, state \"Paris,\" and </span>\n",
       "<span style=\"color: #008000; text-decoration-color: #008000\">keep it friendly. Maybe add \"😊\" to soften it since typos happen to everyone!\\n&lt;/think&gt;\\n\\nThe correct question is:</span>\n",
       "<span style=\"color: #008000; text-decoration-color: #008000\">**\"What is the capital of France?\"**  \\n*(Note: \"French\" refers to the language or people, not a country. The </span>\n",
       "<span style=\"color: #008000; text-decoration-color: #008000\">country is \"France.\")*\\n\\nThe **capital of France is Paris**.  \\n\\n🌍 **Quick facts about Paris**:  \\n- It’s one of</span>\n",
       "<span style=\"color: #008000; text-decoration-color: #008000\">the most visited cities in the world.  \\n- Famous landmarks include the Eiffel Tower, Louvre Museum, and Notre-Dame</span>\n",
       "<span style=\"color: #008000; text-decoration-color: #008000\">Cathedral.  \\n- It’s a global hub for art, fashion, cuisine, and history.  \\n\\n*Typo note*: You wrote \"captial\" </span>\n",
       "<span style=\"color: #008000; text-decoration-color: #008000\">(should be **capital**) and \"french\" (should be **France**). No worries—everyone makes typos! 😊'</span>,\n",
       "    <span style=\"color: #808000; text-decoration-color: #808000\">additional_kwargs</span>=<span style=\"font-weight: bold\">{}</span>,\n",
       "    <span style=\"color: #808000; text-decoration-color: #808000\">response_metadata</span>=<span style=\"font-weight: bold\">{</span>\n",
       "        <span style=\"color: #008000; text-decoration-color: #008000\">'model'</span>: <span style=\"color: #008000; text-decoration-color: #008000\">'qwen3:30b'</span>,\n",
       "        <span style=\"color: #008000; text-decoration-color: #008000\">'created_at'</span>: <span style=\"color: #008000; text-decoration-color: #008000\">'2025-10-05T07:42:18.355089Z'</span>,\n",
       "        <span style=\"color: #008000; text-decoration-color: #008000\">'done'</span>: <span style=\"color: #00ff00; text-decoration-color: #00ff00; font-style: italic\">True</span>,\n",
       "        <span style=\"color: #008000; text-decoration-color: #008000\">'done_reason'</span>: <span style=\"color: #008000; text-decoration-color: #008000\">'stop'</span>,\n",
       "        <span style=\"color: #008000; text-decoration-color: #008000\">'total_duration'</span>: <span style=\"color: #008080; text-decoration-color: #008080; font-weight: bold\">19050716958</span>,\n",
       "        <span style=\"color: #008000; text-decoration-color: #008000\">'load_duration'</span>: <span style=\"color: #008080; text-decoration-color: #008080; font-weight: bold\">4704059167</span>,\n",
       "        <span style=\"color: #008000; text-decoration-color: #008000\">'prompt_eval_count'</span>: <span style=\"color: #008080; text-decoration-color: #008080; font-weight: bold\">16</span>,\n",
       "        <span style=\"color: #008000; text-decoration-color: #008000\">'prompt_eval_duration'</span>: <span style=\"color: #008080; text-decoration-color: #008080; font-weight: bold\">5782524584</span>,\n",
       "        <span style=\"color: #008000; text-decoration-color: #008000\">'eval_count'</span>: <span style=\"color: #008080; text-decoration-color: #008080; font-weight: bold\">425</span>,\n",
       "        <span style=\"color: #008000; text-decoration-color: #008000\">'eval_duration'</span>: <span style=\"color: #008080; text-decoration-color: #008080; font-weight: bold\">8562923791</span>,\n",
       "        <span style=\"color: #008000; text-decoration-color: #008000\">'model_name'</span>: <span style=\"color: #008000; text-decoration-color: #008000\">'qwen3:30b'</span>\n",
       "    <span style=\"font-weight: bold\">}</span>,\n",
       "    <span style=\"color: #808000; text-decoration-color: #808000\">id</span>=<span style=\"color: #008000; text-decoration-color: #008000\">'run--5701d98a-65c2-45ec-9ca2-3074dc60df6e-0'</span>,\n",
       "    <span style=\"color: #808000; text-decoration-color: #808000\">usage_metadata</span>=<span style=\"font-weight: bold\">{</span><span style=\"color: #008000; text-decoration-color: #008000\">'input_tokens'</span>: <span style=\"color: #008080; text-decoration-color: #008080; font-weight: bold\">16</span>, <span style=\"color: #008000; text-decoration-color: #008000\">'output_tokens'</span>: <span style=\"color: #008080; text-decoration-color: #008080; font-weight: bold\">425</span>, <span style=\"color: #008000; text-decoration-color: #008000\">'total_tokens'</span>: <span style=\"color: #008080; text-decoration-color: #008080; font-weight: bold\">441</span><span style=\"font-weight: bold\">}</span>\n",
       "<span style=\"font-weight: bold\">)</span>\n",
       "</pre>\n"
      ]
     },
     "metadata": {},
     "output_type": "display_data",
     "jetTransient": {
      "display_id": null
     }
    }
   ],
   "execution_count": 5
  }
 ],
 "metadata": {
  "kernelspec": {
   "display_name": ".venv",
   "language": "python",
   "name": "python3"
  },
  "language_info": {
   "codemirror_mode": {
    "name": "ipython",
    "version": 3
   },
   "file_extension": ".py",
   "mimetype": "text/x-python",
   "name": "python",
   "nbconvert_exporter": "python",
   "pygments_lexer": "ipython3",
   "version": "3.12.11"
  }
 },
 "nbformat": 4,
 "nbformat_minor": 5
}
