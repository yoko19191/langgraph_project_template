{
 "cells": [
  {
   "cell_type": "code",
   "id": "initial_id",
   "metadata": {
    "collapsed": true,
    "ExecuteTime": {
     "end_time": "2025-10-05T13:22:46.964862Z",
     "start_time": "2025-10-05T13:22:46.930676Z"
    }
   },
   "source": [
    "import os\n",
    "import sys\n",
    "\n",
    "from rich import print\n",
    "\n",
    "from dotenv import load_dotenv, find_dotenv\n",
    "\n",
    "_ = load_dotenv(find_dotenv())\n",
    "\n",
    "project_root = os.path.abspath(os.path.join(os.getcwd(), '..'))\n",
    "if project_root not in sys.path:\n",
    "    sys.path.insert(0, project_root)\n",
    "\n",
    "print(f\"✅ Project root added to path: {project_root}\")"
   ],
   "outputs": [
    {
     "data": {
      "text/plain": [
       "✅ Project root added to path: \u001B[35m/Users/guchen/repo_own/langgraph_project_template/tests/app/\u001B[0m\u001B[95mcommon\u001B[0m\n"
      ],
      "text/html": [
       "<pre style=\"white-space:pre;overflow-x:auto;line-height:normal;font-family:Menlo,'DejaVu Sans Mono',consolas,'Courier New',monospace\">✅ Project root added to path: <span style=\"color: #800080; text-decoration-color: #800080\">/Users/guchen/repo_own/langgraph_project_template/tests/app/</span><span style=\"color: #ff00ff; text-decoration-color: #ff00ff\">common</span>\n",
       "</pre>\n"
      ]
     },
     "metadata": {},
     "output_type": "display_data",
     "jetTransient": {
      "display_id": null
     }
    }
   ],
   "execution_count": 1
  },
  {
   "metadata": {
    "ExecuteTime": {
     "end_time": "2025-10-05T13:22:49.978198Z",
     "start_time": "2025-10-05T13:22:49.792595Z"
    }
   },
   "cell_type": "code",
   "source": [
    "import numpy as np\n",
    "\n",
    "texts = [\n",
    "    \"What is the capital of France?\", # 0\n",
    "    \"What is the capital of Norway?\",\n",
    "    \"Man\", # 2\n",
    "    \"Woman\",\n",
    "    \"男人\", # 4\n",
    "    \"King\"\n",
    "    \"Queen\" # 6\n",
    "]\n",
    "\n",
    "def cosine_similarity(a, b):\n",
    "    \"\"\"\n",
    "    Calculate the cosine similarity between two vectors.\n",
    "\n",
    "    Parameters:\n",
    "    - a (numpy array): First vector.\n",
    "    - b (numpy array): Second vector.\n",
    "\n",
    "    Returns:\n",
    "    - float: Cosine similarity between the two vectors.\n",
    "    \"\"\"\n",
    "    return np.dot(a, b) / (np.linalg.norm(a) * np.linalg.norm(b))\n",
    "\n",
    "from langchain_core.embeddings.embeddings import Embeddings\n",
    "\n",
    "def test_embeddings(embeddings: Embeddings):\n",
    "    print(embeddings.__class__.__mro__)\n",
    "    vectorized_texts = embeddings.embed_documents(texts)\n",
    "    print(vectorized_texts[0].__class__.__mro__)\n",
    "    print(f\"dimension: {len(vectorized_texts[0])}\")\n",
    "    print(f\"semantic: {cosine_similarity(vectorized_texts[0], vectorized_texts[1])}\")\n",
    "    print(f\"opposite : {cosine_similarity(vectorized_texts[2], vectorized_texts[3])}\")\n",
    "    print(f\"multilang: {cosine_similarity(vectorized_texts[2], vectorized_texts[4])}\")\n",
    "    vector_cal = np.array(vectorized_texts[5]) - np.array(vectorized_texts[2]) + np.array(vectorized_texts[3]) # king - man + woman = queen?\n",
    "    print(f\"king - man + woman vs. Queen: {cosine_similarity(vector_cal, vectorized_texts[5])}\")\n"
   ],
   "id": "18d07c98d3dea3cb",
   "outputs": [],
   "execution_count": 2
  },
  {
   "metadata": {},
   "cell_type": "markdown",
   "source": "## `common.models.embedding_models`",
   "id": "b024846f0ea80d08"
  },
  {
   "metadata": {
    "ExecuteTime": {
     "end_time": "2025-10-05T13:25:58.601404Z",
     "start_time": "2025-10-05T13:25:51.729378Z"
    }
   },
   "cell_type": "code",
   "source": [
    "from src.app.common.models import init_embedding_model\n",
    "\n",
    "embeddings = init_embedding_model(model=\"jina-embeddings-v4\", model_provider=\"jinaai\")\n",
    "test_embeddings(embeddings)"
   ],
   "id": "3f2d477aa32fc916",
   "outputs": [
    {
     "data": {
      "text/plain": [
       "\u001B[1m(\u001B[0m\n",
       "    \u001B[1m<\u001B[0m\u001B[1;95mclass\u001B[0m\u001B[39m \u001B[0m\u001B[32m'langchain_community.embeddings.jina.JinaEmbeddings'\u001B[0m\u001B[39m>,\u001B[0m\n",
       "\u001B[39m    <class \u001B[0m\u001B[32m'pydantic.main.BaseModel'\u001B[0m\u001B[39m>,\u001B[0m\n",
       "\u001B[39m    <class \u001B[0m\u001B[32m'langchain_core.embeddings.embeddings.Embeddings'\u001B[0m\u001B[39m>,\u001B[0m\n",
       "\u001B[39m    <class \u001B[0m\u001B[32m'abc.ABC'\u001B[0m\u001B[39m>,\u001B[0m\n",
       "\u001B[39m    <class \u001B[0m\u001B[32m'object'\u001B[0m\u001B[1m>\u001B[0m\n",
       "\u001B[1m)\u001B[0m\n"
      ],
      "text/html": [
       "<pre style=\"white-space:pre;overflow-x:auto;line-height:normal;font-family:Menlo,'DejaVu Sans Mono',consolas,'Courier New',monospace\"><span style=\"font-weight: bold\">(</span>\n",
       "    <span style=\"font-weight: bold\">&lt;</span><span style=\"color: #ff00ff; text-decoration-color: #ff00ff; font-weight: bold\">class</span><span style=\"color: #000000; text-decoration-color: #000000\"> </span><span style=\"color: #008000; text-decoration-color: #008000\">'langchain_community.embeddings.jina.JinaEmbeddings'</span><span style=\"color: #000000; text-decoration-color: #000000\">&gt;,</span>\n",
       "<span style=\"color: #000000; text-decoration-color: #000000\">    &lt;class </span><span style=\"color: #008000; text-decoration-color: #008000\">'pydantic.main.BaseModel'</span><span style=\"color: #000000; text-decoration-color: #000000\">&gt;,</span>\n",
       "<span style=\"color: #000000; text-decoration-color: #000000\">    &lt;class </span><span style=\"color: #008000; text-decoration-color: #008000\">'langchain_core.embeddings.embeddings.Embeddings'</span><span style=\"color: #000000; text-decoration-color: #000000\">&gt;,</span>\n",
       "<span style=\"color: #000000; text-decoration-color: #000000\">    &lt;class </span><span style=\"color: #008000; text-decoration-color: #008000\">'abc.ABC'</span><span style=\"color: #000000; text-decoration-color: #000000\">&gt;,</span>\n",
       "<span style=\"color: #000000; text-decoration-color: #000000\">    &lt;class </span><span style=\"color: #008000; text-decoration-color: #008000\">'object'</span><span style=\"font-weight: bold\">&gt;</span>\n",
       "<span style=\"font-weight: bold\">)</span>\n",
       "</pre>\n"
      ]
     },
     "metadata": {},
     "output_type": "display_data",
     "jetTransient": {
      "display_id": null
     }
    },
    {
     "data": {
      "text/plain": [
       "\u001B[1m(\u001B[0m\u001B[1m<\u001B[0m\u001B[1;95mclass\u001B[0m\u001B[39m \u001B[0m\u001B[32m'list'\u001B[0m\u001B[39m>, <class \u001B[0m\u001B[32m'object'\u001B[0m\u001B[1m>\u001B[0m\u001B[1m)\u001B[0m\n"
      ],
      "text/html": [
       "<pre style=\"white-space:pre;overflow-x:auto;line-height:normal;font-family:Menlo,'DejaVu Sans Mono',consolas,'Courier New',monospace\"><span style=\"font-weight: bold\">(&lt;</span><span style=\"color: #ff00ff; text-decoration-color: #ff00ff; font-weight: bold\">class</span><span style=\"color: #000000; text-decoration-color: #000000\"> </span><span style=\"color: #008000; text-decoration-color: #008000\">'list'</span><span style=\"color: #000000; text-decoration-color: #000000\">&gt;, &lt;class </span><span style=\"color: #008000; text-decoration-color: #008000\">'object'</span><span style=\"font-weight: bold\">&gt;)</span>\n",
       "</pre>\n"
      ]
     },
     "metadata": {},
     "output_type": "display_data",
     "jetTransient": {
      "display_id": null
     }
    },
    {
     "data": {
      "text/plain": [
       "dimension: \u001B[1;36m768\u001B[0m\n"
      ],
      "text/html": [
       "<pre style=\"white-space:pre;overflow-x:auto;line-height:normal;font-family:Menlo,'DejaVu Sans Mono',consolas,'Courier New',monospace\">dimension: <span style=\"color: #008080; text-decoration-color: #008080; font-weight: bold\">768</span>\n",
       "</pre>\n"
      ]
     },
     "metadata": {},
     "output_type": "display_data",
     "jetTransient": {
      "display_id": null
     }
    },
    {
     "data": {
      "text/plain": [
       "semantic: \u001B[1;36m0.7824794908586994\u001B[0m\n"
      ],
      "text/html": [
       "<pre style=\"white-space:pre;overflow-x:auto;line-height:normal;font-family:Menlo,'DejaVu Sans Mono',consolas,'Courier New',monospace\">semantic: <span style=\"color: #008080; text-decoration-color: #008080; font-weight: bold\">0.7824794908586994</span>\n",
       "</pre>\n"
      ]
     },
     "metadata": {},
     "output_type": "display_data",
     "jetTransient": {
      "display_id": null
     }
    },
    {
     "data": {
      "text/plain": [
       "opposite : \u001B[1;36m0.8562625789914844\u001B[0m\n"
      ],
      "text/html": [
       "<pre style=\"white-space:pre;overflow-x:auto;line-height:normal;font-family:Menlo,'DejaVu Sans Mono',consolas,'Courier New',monospace\">opposite : <span style=\"color: #008080; text-decoration-color: #008080; font-weight: bold\">0.8562625789914844</span>\n",
       "</pre>\n"
      ]
     },
     "metadata": {},
     "output_type": "display_data",
     "jetTransient": {
      "display_id": null
     }
    },
    {
     "data": {
      "text/plain": [
       "multilang: \u001B[1;36m0.7555150391105578\u001B[0m\n"
      ],
      "text/html": [
       "<pre style=\"white-space:pre;overflow-x:auto;line-height:normal;font-family:Menlo,'DejaVu Sans Mono',consolas,'Courier New',monospace\">multilang: <span style=\"color: #008080; text-decoration-color: #008080; font-weight: bold\">0.7555150391105578</span>\n",
       "</pre>\n"
      ]
     },
     "metadata": {},
     "output_type": "display_data",
     "jetTransient": {
      "display_id": null
     }
    },
    {
     "data": {
      "text/plain": [
       "king - man + woman vs. Queen: \u001B[1;36m0.8748811779105226\u001B[0m\n"
      ],
      "text/html": [
       "<pre style=\"white-space:pre;overflow-x:auto;line-height:normal;font-family:Menlo,'DejaVu Sans Mono',consolas,'Courier New',monospace\">king - man + woman vs. Queen: <span style=\"color: #008080; text-decoration-color: #008080; font-weight: bold\">0.8748811779105226</span>\n",
       "</pre>\n"
      ]
     },
     "metadata": {},
     "output_type": "display_data",
     "jetTransient": {
      "display_id": null
     }
    }
   ],
   "execution_count": 12
  },
  {
   "metadata": {},
   "cell_type": "markdown",
   "source": [
    "## `langchain.embeddings`\n",
    "\n",
    "- [ ] `langchain_openai.OpenAIEmbeddings`\n",
    "- [ ] `langchain_ollama.OllamaEmbeddings`\n",
    "- [ ] `langchain_xinference.XinferenceEmbeddings`\n",
    "- [ ] `langchain_google_genai.GoogleGenerativeAIEmbeddings`\n",
    "- [ ] `langchain_siliconflow.SiliconFlowEmbeddings`\n",
    "- [ ] `langchain_community.embeddings.dashscope.DashScopeEmbeddings`\n",
    "- [ ] `langchain_community.embeddings.jina.JinaEmbeddings`\n"
   ],
   "id": "36f5e71b7a72c94a"
  },
  {
   "metadata": {},
   "cell_type": "code",
   "source": [
    "# package: langchain_openai\n",
    "from langchain_openai import OpenAIEmbeddings\n",
    "\n",
    "openai_embeddings = OpenAIEmbeddings(model=\"text-embedding-3-large\")\n",
    "test_embeddings(openai_embeddings)\n",
    "test_embeddings(openai_embeddings)"
   ],
   "id": "50033635b709d5c4",
   "outputs": [],
   "execution_count": null
  },
  {
   "metadata": {},
   "cell_type": "code",
   "source": [
    "# package: langchain_ollama\n",
    "from langchain_ollama import OllamaEmbeddings\n",
    "\n",
    "ollama_embeddings = OllamaEmbeddings(model=\"qwen3-embedding:latest\")\n",
    "test_embeddings(ollama_embeddings)"
   ],
   "id": "b59f5b6ffa05f71d",
   "outputs": [],
   "execution_count": null
  },
  {
   "metadata": {},
   "cell_type": "code",
   "source": [
    "# package: langchain_xinference\n",
    "from langchain_xinference import XinferenceEmbeddings\n",
    "\n",
    "xinference_embeddings = XinferenceEmbeddings(model_uid=\"qwen3-embedding-4b\", server_url=\"http://192.168.100.10:9997\")\n",
    "test_embeddings(xinference_embeddings)"
   ],
   "id": "6118f8ce8ce489fa",
   "outputs": [],
   "execution_count": null
  },
  {
   "metadata": {},
   "cell_type": "code",
   "source": [
    "# package: langchain_google_genai\n",
    "from langchain_google_genai import GoogleGenerativeAIEmbeddings\n",
    "\n",
    "google_embeddings = GoogleGenerativeAIEmbeddings(model=\"gemini-embedding-001\")\n",
    "test_embeddings(google_embeddings)"
   ],
   "id": "340aa20dca0eae6b",
   "outputs": [],
   "execution_count": null
  },
  {
   "metadata": {},
   "cell_type": "code",
   "source": [
    "# package: langchain_siliconflow.SiliconflowEmbeddings\n",
    "from langchain_siliconflow import SiliconFlowEmbeddings\n",
    "\n",
    "siliconflow_embeddings = SiliconFlowEmbeddings(model=\"BAAI/bge-m3\")\n",
    "test_embeddings(siliconflow_embeddings)"
   ],
   "id": "efb35535b998cd86",
   "outputs": [],
   "execution_count": null
  },
  {
   "metadata": {},
   "cell_type": "code",
   "source": [
    "# langchain_community.embeddings.DashScopeEmbeddings # require: pip install dashscope\n",
    "from langchain_community.embeddings import DashScopeEmbeddings # Dashscope\n",
    "dashscope_embeddings = DashScopeEmbeddings(model=\"text-embedding-v4\")\n",
    "#dashscope_embeddings = DashScopeEmbeddings(model=\"tongyi-embedding-vision-plus\")\n",
    "test_embeddings(dashscope_embeddings)"
   ],
   "id": "1e6da9c7980c5865",
   "outputs": [],
   "execution_count": null
  },
  {
   "metadata": {},
   "cell_type": "code",
   "source": [
    "# langchain_community.embeddings.JinaEmbeddings\n",
    "from langchain_community.embeddings import JinaEmbeddings\n",
    "\n",
    "jinaai_embeddings = JinaEmbeddings(model=\"jina-embeddings-v4\")\n",
    "test_embeddings(jinaai_embeddings)"
   ],
   "id": "6a4c78340ae3301e",
   "outputs": [],
   "execution_count": null
  },
  {
   "metadata": {},
   "cell_type": "code",
   "source": "",
   "id": "1211d9d42d8f1e65",
   "outputs": [],
   "execution_count": null
  }
 ],
 "metadata": {
  "kernelspec": {
   "display_name": "Python 3",
   "language": "python",
   "name": "python3"
  },
  "language_info": {
   "codemirror_mode": {
    "name": "ipython",
    "version": 2
   },
   "file_extension": ".py",
   "mimetype": "text/x-python",
   "name": "python",
   "nbconvert_exporter": "python",
   "pygments_lexer": "ipython2",
   "version": "2.7.6"
  }
 },
 "nbformat": 4,
 "nbformat_minor": 5
}
