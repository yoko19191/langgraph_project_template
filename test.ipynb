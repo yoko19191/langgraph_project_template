{
 "cells": [
  {
   "cell_type": "code",
   "execution_count": 1,
   "id": "d17b4e7e",
   "metadata": {},
   "outputs": [
    {
     "name": "stdout",
     "output_type": "stream",
     "text": [
      "client=<openai.resources.chat.completions.completions.Completions object at 0x10d3ae0c0> async_client=<openai.resources.chat.completions.completions.AsyncCompletions object at 0x10d3aef90> root_client=<openai.OpenAI object at 0x10b67e3f0> root_async_client=<openai.AsyncOpenAI object at 0x10cb78440> model_name='doubao-seed-1-6-250615' model_kwargs={} openai_api_key=SecretStr('**********') openai_api_base='https://ark.cn-beijing.volces.com/api/v3'\n",
      "(<class 'langchain_openai.chat_models.base.ChatOpenAI'>, <class 'langchain_openai.chat_models.base.BaseChatOpenAI'>, <class 'langchain_core.language_models.chat_models.BaseChatModel'>, <class 'langchain_core.language_models.base.BaseLanguageModel[BaseMessage]'>, <class 'langchain_core.language_models.base.BaseLanguageModel'>, <class 'langchain_core.runnables.base.RunnableSerializable[Union[PromptValue, str, Sequence[Union[BaseMessage, list[str], tuple[str, str], str, dict[str, Any]]]], TypeVar]'>, <class 'langchain_core.runnables.base.RunnableSerializable'>, <class 'langchain_core.load.serializable.Serializable'>, <class 'pydantic.main.BaseModel'>, <class 'langchain_core.runnables.base.Runnable'>, <class 'abc.ABC'>, <class 'typing.Generic'>, <class 'object'>)\n"
     ]
    }
   ],
   "source": [
    "import os \n",
    "\n",
    "from dotenv import load_dotenv, find_dotenv\n",
    "\n",
    "from app.common.chat_models import init_chat_model\n",
    "from app.common.utils import _get_api_key, _get_env_var\n",
    "\n",
    "_ = load_dotenv(find_dotenv())\n",
    "\n",
    "model = init_chat_model(\n",
    "    model=\"doubao-seed-1-6-250615\",\n",
    ")\n",
    "\n",
    "print(model)\n",
    "print(model.__class__.__mro__)"
   ]
  },
  {
   "cell_type": "code",
   "execution_count": null,
   "id": "5b3d1a23",
   "metadata": {},
   "outputs": [
    {
     "name": "stdout",
     "output_type": "stream",
     "text": [
      "\u001b[1mVolcEngineMaasLLM\u001b[0m\n",
      "Params: {}\n",
      "(<class 'langchain_community.llms.volcengine_maas.VolcEngineMaasLLM'>, <class 'langchain_core.language_models.llms.LLM'>, <class 'langchain_core.language_models.llms.BaseLLM'>, <class 'langchain_core.language_models.base.BaseLanguageModel[str]'>, <class 'langchain_core.language_models.base.BaseLanguageModel'>, <class 'langchain_core.runnables.base.RunnableSerializable[Union[PromptValue, str, Sequence[Union[BaseMessage, list[str], tuple[str, str], str, dict[str, Any]]]], TypeVar]'>, <class 'langchain_core.runnables.base.RunnableSerializable'>, <class 'langchain_core.load.serializable.Serializable'>, <class 'langchain_community.llms.volcengine_maas.VolcEngineMaasBase'>, <class 'pydantic.main.BaseModel'>, <class 'langchain_core.runnables.base.Runnable'>, <class 'abc.ABC'>, <class 'typing.Generic'>, <class 'object'>)\n"
     ]
    }
   ],
   "source": [
    "import os \n",
    "from dotenv import load_dotenv, find_dotenv\n",
    "\n",
    "from langchain_community.chat_models import VolcEngineMaasChat\n",
    "from langchain_core.messages import HumanMessage\n",
    "\n",
    "_ = load_dotenv(find_dotenv())\n",
    "\n",
    "\n",
    "#chat = VolcEngineMaasChat(volc_engine_maas_ak=\"your ak\", volc_engine_maas_sk=\"your sk\")\n",
    "#chat([HumanMessage(content=\"给我讲个笑话\")])\n",
    "\n",
    "from "
   ]
  },
  {
   "cell_type": "code",
   "execution_count": 2,
   "id": "4ab57d71",
   "metadata": {},
   "outputs": [
    {
     "data": {
      "text/plain": [
       "AIMessage(content='The capital of France is Paris. Note that \"French\" typically refers to the language, people, or culture of France, while the country itself is called France. So, the correct capital is Paris.', additional_kwargs={'refusal': None}, response_metadata={'token_usage': {'completion_tokens': 151, 'prompt_tokens': 92, 'total_tokens': 243, 'completion_tokens_details': {'accepted_prediction_tokens': None, 'audio_tokens': None, 'reasoning_tokens': 110, 'rejected_prediction_tokens': None}, 'prompt_tokens_details': {'audio_tokens': None, 'cached_tokens': 0}}, 'model_name': 'doubao-seed-1-6-250615', 'system_fingerprint': None, 'id': '0217563651444435b802f7b58d7dbc0aa4c5acae2959184fd66c9', 'service_tier': 'default', 'finish_reason': 'stop', 'logprobs': None}, id='run--88f3e568-c7ed-4b19-81b1-e589bed54093-0', usage_metadata={'input_tokens': 92, 'output_tokens': 151, 'total_tokens': 243, 'input_token_details': {'cache_read': 0}, 'output_token_details': {'reasoning': 110}})"
      ]
     },
     "execution_count": 2,
     "metadata": {},
     "output_type": "execute_result"
    }
   ],
   "source": [
    "resp = model.invoke(\"What is the captial of french?\")\n",
    "resp"
   ]
  },
  {
   "cell_type": "code",
   "execution_count": null,
   "id": "998449e1",
   "metadata": {},
   "outputs": [],
   "source": []
  }
 ],
 "metadata": {
  "kernelspec": {
   "display_name": ".venv",
   "language": "python",
   "name": "python3"
  },
  "language_info": {
   "codemirror_mode": {
    "name": "ipython",
    "version": 3
   },
   "file_extension": ".py",
   "mimetype": "text/x-python",
   "name": "python",
   "nbconvert_exporter": "python",
   "pygments_lexer": "ipython3",
   "version": "3.12.11"
  }
 },
 "nbformat": 4,
 "nbformat_minor": 5
}
